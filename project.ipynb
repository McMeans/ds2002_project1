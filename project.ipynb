{
 "cells": [
  {
   "cell_type": "code",
   "execution_count": 1,
   "metadata": {},
   "outputs": [],
   "source": [
    "# imports\n",
    "import pandas as pd\n",
    "import json\n",
    "import re"
   ]
  },
  {
   "cell_type": "markdown",
   "metadata": {},
   "source": [
    "Handling file conversions for SQL"
   ]
  },
  {
   "cell_type": "code",
   "execution_count": 2,
   "metadata": {},
   "outputs": [],
   "source": [
    "# converting from sql \n",
    "def convert_from_sql(sql_file_path, result_type):\n",
    "    # read file\n",
    "    with open(sql_file_path, 'r') as file:\n",
    "        sql_content = file.read()\n",
    "    \n",
    "    # extract column names\n",
    "    columns_match = re.search(r'INSERT INTO \\w+ \\((.*?)\\)', sql_content)\n",
    "    if columns_match:\n",
    "        columns = [col.strip() for col in columns_match.group(1).split(',')]\n",
    "    else:\n",
    "        raise ValueError(\"Could not find column names in SQL file\")\n",
    "    \n",
    "    # extract values\n",
    "    values_match = re.findall(r'VALUES\\s*(\\(.*?\\))', sql_content)\n",
    "    if not values_match:\n",
    "        raise ValueError(\"Could not find VALUES in SQL file\")\n",
    "    \n",
    "    # parse values into rows\n",
    "    rows = []\n",
    "    for value_group in values_match:\n",
    "        # Remove parentheses and split by comma\n",
    "        values = [v.strip().strip(\"'\\\"\") for v in value_group.strip('()').split(',')]\n",
    "        rows.append(values)\n",
    "    \n",
    "    # create df and convert\n",
    "    df = pd.DataFrame(rows, columns=columns)\n",
    "    if result_type.lower() == \"json\":\n",
    "        df.to_json(\"output_data/\", orient='records')\n",
    "    elif result_type.lower() == \"csv\":\n",
    "        df.to_csv(\"output_data/\", index=False)\n",
    "    else:\n",
    "        raise ValueError(\"Desired output type wasn't JSON or CSV\")"
   ]
  },
  {
   "cell_type": "markdown",
   "metadata": {},
   "source": [
    "Handling file conversions for JSON"
   ]
  },
  {
   "cell_type": "code",
   "execution_count": 3,
   "metadata": {},
   "outputs": [],
   "source": [
    "# converting from json\n",
    "def convert_from_json(json_file_path, result_type):\n",
    "    # read file\n",
    "    with open(json_file_path, 'r') as file:\n",
    "        json_data = json.load(file)\n",
    "    \n",
    "    # create df and convert\n",
    "    df = pd.DataFrame(json_data)\n",
    "    if result_type.lower() == \"sql\":\n",
    "        sql_query = df.to_sql('table_name', if_exists='replace', index=False)\n",
    "        with open(\"output_data/\", 'w') as file:\n",
    "            file.write(sql_query)\n",
    "    elif result_type.lower() == \"csv\":\n",
    "        df.to_csv(\"output_data/\", index=False)\n",
    "    else:\n",
    "        raise ValueError(\"Desired output type wasn't SQL or CSV\")\n"
   ]
  },
  {
   "cell_type": "markdown",
   "metadata": {},
   "source": [
    "Handling file conversions for CSV"
   ]
  },
  {
   "cell_type": "code",
   "execution_count": 4,
   "metadata": {},
   "outputs": [],
   "source": [
    "# converting from csv\n",
    "def convert_from_csv(csv_file_path, result_type):\n",
    "    # read file and convert\n",
    "    df = pd.read_csv(csv_file_path)\n",
    "    if result_type.lower() == \"json\":\n",
    "        df.to_json(\"output_data/\", orient='records')\n",
    "    elif result_type.lower() == \"sql\":\n",
    "        sql_query = df.to_sql('table_name', if_exists='replace', index=False)\n",
    "        with open(\"output_data/\", 'w') as file:\n",
    "            file.write(sql_query)\n",
    "    else:\n",
    "        raise ValueError(\"Desired output type wasn't JSON or SQL\")\n"
   ]
  }
 ],
 "metadata": {
  "kernelspec": {
   "display_name": "Python 3",
   "language": "python",
   "name": "python3"
  },
  "language_info": {
   "codemirror_mode": {
    "name": "ipython",
    "version": 3
   },
   "file_extension": ".py",
   "mimetype": "text/x-python",
   "name": "python",
   "nbconvert_exporter": "python",
   "pygments_lexer": "ipython3",
   "version": "3.12.3"
  }
 },
 "nbformat": 4,
 "nbformat_minor": 2
}
